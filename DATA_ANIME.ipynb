{
 "cells": [
  {
   "cell_type": "markdown",
   "metadata": {},
   "source": [
    "# DATA ANIME"
   ]
  },
  {
   "cell_type": "markdown",
   "metadata": {},
   "source": [
    "#### LIBRERIAS A USAR"
   ]
  },
  {
   "cell_type": "code",
   "execution_count": 1,
   "metadata": {},
   "outputs": [],
   "source": [
    "import pandas as pd\n",
    "import numpy as npy\n",
    "import matplotlib.pyplot as plt\n",
    "import os \n",
    "import sys\n",
    "import seaborn as sns \n",
    "import plotly.express as px"
   ]
  },
  {
   "cell_type": "markdown",
   "metadata": {},
   "source": [
    "##### DF"
   ]
  },
  {
   "cell_type": "code",
   "execution_count": 5,
   "metadata": {},
   "outputs": [],
   "source": [
    "df = pd.read_csv(r'C:\\Users\\kervi\\OneDrive\\Escritorio\\DATA\\temario\\modulo_1\\03_modulo1\\Anime.csv')\n",
    "\n"
   ]
  },
  {
   "cell_type": "code",
   "execution_count": 6,
   "metadata": {},
   "outputs": [
    {
     "data": {
      "text/plain": [
       "Index(['animeID', ' name', ' title_english', ' title_japanese',\n",
       "       ' title_synonyms', ' type', ' source', ' producers', ' genre',\n",
       "       ' studio', ' episodes', ' status', ' airing', ' aired', ' duration',\n",
       "       ' rating', ' score', ' scored_by', ' rank', ' popularity', ' members',\n",
       "       ' favorites', ' synopsis', ' background', ' premiered', ' broadcast',\n",
       "       ' related'],\n",
       "      dtype='object')"
      ]
     },
     "execution_count": 6,
     "metadata": {},
     "output_type": "execute_result"
    }
   ],
   "source": [
    "df.columns"
   ]
  },
  {
   "cell_type": "code",
   "execution_count": 7,
   "metadata": {},
   "outputs": [
    {
     "data": {
      "text/plain": [
       "(15288, 27)"
      ]
     },
     "execution_count": 7,
     "metadata": {},
     "output_type": "execute_result"
    }
   ],
   "source": [
    "df.shape"
   ]
  },
  {
   "cell_type": "code",
   "execution_count": 14,
   "metadata": {},
   "outputs": [
    {
     "data": {
      "text/html": [
       "<div>\n",
       "<style scoped>\n",
       "    .dataframe tbody tr th:only-of-type {\n",
       "        vertical-align: middle;\n",
       "    }\n",
       "\n",
       "    .dataframe tbody tr th {\n",
       "        vertical-align: top;\n",
       "    }\n",
       "\n",
       "    .dataframe thead th {\n",
       "        text-align: right;\n",
       "    }\n",
       "</style>\n",
       "<table border=\"1\" class=\"dataframe\">\n",
       "  <thead>\n",
       "    <tr style=\"text-align: right;\">\n",
       "      <th></th>\n",
       "      <th>animeID</th>\n",
       "      <th>name</th>\n",
       "      <th>title_english</th>\n",
       "      <th>title_synonyms</th>\n",
       "      <th>type</th>\n",
       "      <th>source</th>\n",
       "      <th>producers</th>\n",
       "      <th>genre</th>\n",
       "      <th>studio</th>\n",
       "      <th>episodes</th>\n",
       "      <th>...</th>\n",
       "      <th>scored_by</th>\n",
       "      <th>rank</th>\n",
       "      <th>popularity</th>\n",
       "      <th>members</th>\n",
       "      <th>favorites</th>\n",
       "      <th>synopsis</th>\n",
       "      <th>background</th>\n",
       "      <th>premiered</th>\n",
       "      <th>broadcast</th>\n",
       "      <th>related</th>\n",
       "    </tr>\n",
       "  </thead>\n",
       "  <tbody>\n",
       "    <tr>\n",
       "      <th>0</th>\n",
       "      <td>1</td>\n",
       "      <td>Cowboy Bebop</td>\n",
       "      <td>Cowboy Bebop</td>\n",
       "      <td>[]</td>\n",
       "      <td>TV</td>\n",
       "      <td>Original</td>\n",
       "      <td>['Bandai Visual']</td>\n",
       "      <td>['Action', 'Adventure', 'Comedy', 'Drama', 'Sc...</td>\n",
       "      <td>['Sunrise']</td>\n",
       "      <td>26.0</td>\n",
       "      <td>...</td>\n",
       "      <td>405664.0</td>\n",
       "      <td>26.0</td>\n",
       "      <td>39.0</td>\n",
       "      <td>795733.0</td>\n",
       "      <td>43460.0</td>\n",
       "      <td>In the year 2071, humanity has colonized sever...</td>\n",
       "      <td>When Cowboy Bebop first aired in spring of 199...</td>\n",
       "      <td>Spring 1998</td>\n",
       "      <td>Saturdays at 01:00 (JST)</td>\n",
       "      <td>{'Adaptation': [{'mal_id': 173, 'type': 'manga...</td>\n",
       "    </tr>\n",
       "    <tr>\n",
       "      <th>2</th>\n",
       "      <td>6</td>\n",
       "      <td>Trigun</td>\n",
       "      <td>Trigun</td>\n",
       "      <td>[]</td>\n",
       "      <td>TV</td>\n",
       "      <td>Manga</td>\n",
       "      <td>['Victor Entertainment']</td>\n",
       "      <td>['Action', 'Sci-Fi', 'Adventure', 'Comedy', 'D...</td>\n",
       "      <td>['Madhouse']</td>\n",
       "      <td>26.0</td>\n",
       "      <td>...</td>\n",
       "      <td>212537.0</td>\n",
       "      <td>255.0</td>\n",
       "      <td>146.0</td>\n",
       "      <td>408548.0</td>\n",
       "      <td>10432.0</td>\n",
       "      <td>Vash the Stampede is the man with a $$60,000,0...</td>\n",
       "      <td>The Japanese release by Victor Entertainment h...</td>\n",
       "      <td>Spring 1998</td>\n",
       "      <td>Thursdays at 01:15 (JST)</td>\n",
       "      <td>{'Adaptation': [{'mal_id': 703, 'type': 'manga...</td>\n",
       "    </tr>\n",
       "    <tr>\n",
       "      <th>5</th>\n",
       "      <td>16</td>\n",
       "      <td>Hachimitsu to Clover</td>\n",
       "      <td>Honey and Clover</td>\n",
       "      <td>['HachiKuro', 'Honey &amp; Clover']</td>\n",
       "      <td>TV</td>\n",
       "      <td>Manga</td>\n",
       "      <td>['Genco', 'Fuji TV', 'Shueisha']</td>\n",
       "      <td>['Comedy', 'Drama', 'Josei', 'Romance', 'Slice...</td>\n",
       "      <td>['J.C.Staff']</td>\n",
       "      <td>24.0</td>\n",
       "      <td>...</td>\n",
       "      <td>57065.0</td>\n",
       "      <td>419.0</td>\n",
       "      <td>536.0</td>\n",
       "      <td>172274.0</td>\n",
       "      <td>3752.0</td>\n",
       "      <td>Yuuta, Takumi, and Shinobu share a six-tatami ...</td>\n",
       "      <td>Hachimitsu to Clover was the first anime to ai...</td>\n",
       "      <td>Spring 2005</td>\n",
       "      <td>Fridays at 00:35 (JST)</td>\n",
       "      <td>{'Adaptation': [{'mal_id': 1009, 'type': 'mang...</td>\n",
       "    </tr>\n",
       "    <tr>\n",
       "      <th>9</th>\n",
       "      <td>20</td>\n",
       "      <td>Naruto</td>\n",
       "      <td>Naruto</td>\n",
       "      <td>['NARUTO']</td>\n",
       "      <td>TV</td>\n",
       "      <td>Manga</td>\n",
       "      <td>['TV Tokyo', 'Aniplex', 'Shueisha']</td>\n",
       "      <td>['Action', 'Adventure', 'Comedy', 'Super Power...</td>\n",
       "      <td>['Studio Pierrot']</td>\n",
       "      <td>220.0</td>\n",
       "      <td>...</td>\n",
       "      <td>716412.0</td>\n",
       "      <td>705.0</td>\n",
       "      <td>10.0</td>\n",
       "      <td>1091313.0</td>\n",
       "      <td>39356.0</td>\n",
       "      <td>Moments prior to Naruto Uzumaki's birth, a hug...</td>\n",
       "      <td>Naruto received numerous awards during its air...</td>\n",
       "      <td>Fall 2002</td>\n",
       "      <td>Thursdays at 19:30 (JST)</td>\n",
       "      <td>{'Adaptation': [{'mal_id': 11, 'type': 'manga'...</td>\n",
       "    </tr>\n",
       "    <tr>\n",
       "      <th>11</th>\n",
       "      <td>22</td>\n",
       "      <td>Tennis no Ouji-sama</td>\n",
       "      <td>The Prince of Tennis</td>\n",
       "      <td>[]</td>\n",
       "      <td>TV</td>\n",
       "      <td>Manga</td>\n",
       "      <td>['Production I.G', 'Nihon Ad Systems']</td>\n",
       "      <td>['Action', 'Comedy', 'Sports', 'School', 'Shou...</td>\n",
       "      <td>['Trans Arts']</td>\n",
       "      <td>178.0</td>\n",
       "      <td>...</td>\n",
       "      <td>50306.0</td>\n",
       "      <td>577.0</td>\n",
       "      <td>856.0</td>\n",
       "      <td>113662.0</td>\n",
       "      <td>2885.0</td>\n",
       "      <td>The world of tennis is harsh and highly compet...</td>\n",
       "      <td>Since 2003, there has been a bi-annual musical...</td>\n",
       "      <td>Fall 2001</td>\n",
       "      <td>Unknown</td>\n",
       "      <td>{'Adaptation': [{'mal_id': 49, 'type': 'manga'...</td>\n",
       "    </tr>\n",
       "    <tr>\n",
       "      <th>...</th>\n",
       "      <td>...</td>\n",
       "      <td>...</td>\n",
       "      <td>...</td>\n",
       "      <td>...</td>\n",
       "      <td>...</td>\n",
       "      <td>...</td>\n",
       "      <td>...</td>\n",
       "      <td>...</td>\n",
       "      <td>...</td>\n",
       "      <td>...</td>\n",
       "      <td>...</td>\n",
       "      <td>...</td>\n",
       "      <td>...</td>\n",
       "      <td>...</td>\n",
       "      <td>...</td>\n",
       "      <td>...</td>\n",
       "      <td>...</td>\n",
       "      <td>...</td>\n",
       "      <td>...</td>\n",
       "      <td>...</td>\n",
       "      <td>...</td>\n",
       "    </tr>\n",
       "    <tr>\n",
       "      <th>14001</th>\n",
       "      <td>37320</td>\n",
       "      <td>Amai Choubatsu: Watashi wa Kanshu Senyou Pet</td>\n",
       "      <td>Sweet Punishment: I'm the Guard's Personal Pet</td>\n",
       "      <td>[\"Amai Choubatsu: Watashi wa Kanshu Sen'you Pet\"]</td>\n",
       "      <td>TV</td>\n",
       "      <td>Web manga</td>\n",
       "      <td>['Picante Circus', 'Suiseisha']</td>\n",
       "      <td>['Ecchi']</td>\n",
       "      <td>['Magic Bus']</td>\n",
       "      <td>13.0</td>\n",
       "      <td>...</td>\n",
       "      <td>2930.0</td>\n",
       "      <td>9278.0</td>\n",
       "      <td>3649.0</td>\n",
       "      <td>12265.0</td>\n",
       "      <td>66.0</td>\n",
       "      <td>The story is set in a prison in the near futur...</td>\n",
       "      <td>The anime aired in three versions: an all-ages...</td>\n",
       "      <td>Spring 2018</td>\n",
       "      <td>Mondays at 01:00 (JST)</td>\n",
       "      <td>{'Adaptation': [{'mal_id': 112745, 'type': 'ma...</td>\n",
       "    </tr>\n",
       "    <tr>\n",
       "      <th>14010</th>\n",
       "      <td>37338</td>\n",
       "      <td>Chuukan Kanriroku Tonegawa</td>\n",
       "      <td>Mr. Tonegawa: Middle Management Blues</td>\n",
       "      <td>['Middle Manager Tonegawa']</td>\n",
       "      <td>TV</td>\n",
       "      <td>Manga</td>\n",
       "      <td>['VAP', 'Half H.P Studio', 'Nippon Television ...</td>\n",
       "      <td>['Comedy', 'Parody', 'Psychological', 'Drama',...</td>\n",
       "      <td>['Madhouse']</td>\n",
       "      <td>24.0</td>\n",
       "      <td>...</td>\n",
       "      <td>4169.0</td>\n",
       "      <td>2988.0</td>\n",
       "      <td>2827.0</td>\n",
       "      <td>21015.0</td>\n",
       "      <td>38.0</td>\n",
       "      <td>Chuukan Kanriroku Tonegawa is a spin-off of th...</td>\n",
       "      <td>The anime was aired on Wednesdays at 1:59 a.m....</td>\n",
       "      <td>Summer 2018</td>\n",
       "      <td>Wednesdays at 00:00 (JST)</td>\n",
       "      <td>{'Adaptation': [{'mal_id': 90689, 'type': 'man...</td>\n",
       "    </tr>\n",
       "    <tr>\n",
       "      <th>14020</th>\n",
       "      <td>37349</td>\n",
       "      <td>Goblin Slayer</td>\n",
       "      <td>Goblin Slayer</td>\n",
       "      <td>[]</td>\n",
       "      <td>TV</td>\n",
       "      <td>Light novel</td>\n",
       "      <td>['Sony Pictures Entertainment', 'Frontier Work...</td>\n",
       "      <td>['Action', 'Adventure', 'Fantasy']</td>\n",
       "      <td>['White Fox']</td>\n",
       "      <td>12.0</td>\n",
       "      <td>...</td>\n",
       "      <td>138670.0</td>\n",
       "      <td>1106.0</td>\n",
       "      <td>259.0</td>\n",
       "      <td>306698.0</td>\n",
       "      <td>2470.0</td>\n",
       "      <td>Goblins are known for their ferocity, cunning,...</td>\n",
       "      <td>Based on the light novel series written by Kum...</td>\n",
       "      <td>Fall 2018</td>\n",
       "      <td>Sundays at 00:30 (JST)</td>\n",
       "      <td>{'Adaptation': [{'mal_id': 95311, 'type': 'man...</td>\n",
       "    </tr>\n",
       "    <tr>\n",
       "      <th>14164</th>\n",
       "      <td>37555</td>\n",
       "      <td>Hangyakusei Million Arthur</td>\n",
       "      <td>Operation Han-Gyaku-Sei Million Arthur</td>\n",
       "      <td>[]</td>\n",
       "      <td>TV</td>\n",
       "      <td>Game</td>\n",
       "      <td>['Square Enix', 'Sotsu', 'Genco', 'Lantis', 'M...</td>\n",
       "      <td>['Action', 'Adventure', 'Magic', 'Fantasy']</td>\n",
       "      <td>['J.C.Staff']</td>\n",
       "      <td>10.0</td>\n",
       "      <td>...</td>\n",
       "      <td>1131.0</td>\n",
       "      <td>6674.0</td>\n",
       "      <td>3924.0</td>\n",
       "      <td>10526.0</td>\n",
       "      <td>17.0</td>\n",
       "      <td>The sacred sword \"Excalibur\". A sword that was...</td>\n",
       "      <td>Hangyakusei Million Arthur depicts a lighter c...</td>\n",
       "      <td>Fall 2018</td>\n",
       "      <td>Thursdays at 22:00 (JST)</td>\n",
       "      <td>{'Other': [{'mal_id': 30954, 'type': 'anime', ...</td>\n",
       "    </tr>\n",
       "    <tr>\n",
       "      <th>14535</th>\n",
       "      <td>38083</td>\n",
       "      <td>Ken En Ken: Aoki Kagayaki</td>\n",
       "      <td>Xuan Yuan Sword Luminary</td>\n",
       "      <td>['Xuan-Yuan Sword: Lights of the Bleak']</td>\n",
       "      <td>TV</td>\n",
       "      <td>Game</td>\n",
       "      <td>['TV Tokyo', 'Ai Addiction']</td>\n",
       "      <td>['Action', 'Adventure', 'Demons', 'Magic', 'Ma...</td>\n",
       "      <td>['Studio Deen']</td>\n",
       "      <td>13.0</td>\n",
       "      <td>...</td>\n",
       "      <td>2086.0</td>\n",
       "      <td>7087.0</td>\n",
       "      <td>4133.0</td>\n",
       "      <td>9158.0</td>\n",
       "      <td>17.0</td>\n",
       "      <td>Yin and Ning are two sisters who have been wan...</td>\n",
       "      <td>Ken En Ken: Aoki Kagayaki is based on the 2004...</td>\n",
       "      <td>Fall 2018</td>\n",
       "      <td>Tuesdays at 02:05 (JST)</td>\n",
       "      <td>{}</td>\n",
       "    </tr>\n",
       "  </tbody>\n",
       "</table>\n",
       "<p>456 rows × 26 columns</p>\n",
       "</div>"
      ],
      "text/plain": [
       "      animeID                                          name  \\\n",
       "0           1                                  Cowboy Bebop   \n",
       "2           6                                        Trigun   \n",
       "5          16                          Hachimitsu to Clover   \n",
       "9          20                                        Naruto   \n",
       "11         22                           Tennis no Ouji-sama   \n",
       "...       ...                                           ...   \n",
       "14001   37320  Amai Choubatsu: Watashi wa Kanshu Senyou Pet   \n",
       "14010   37338                    Chuukan Kanriroku Tonegawa   \n",
       "14020   37349                                 Goblin Slayer   \n",
       "14164   37555                    Hangyakusei Million Arthur   \n",
       "14535   38083                     Ken En Ken: Aoki Kagayaki   \n",
       "\n",
       "                                        title_english  \\\n",
       "0                                        Cowboy Bebop   \n",
       "2                                              Trigun   \n",
       "5                                    Honey and Clover   \n",
       "9                                              Naruto   \n",
       "11                               The Prince of Tennis   \n",
       "...                                               ...   \n",
       "14001  Sweet Punishment: I'm the Guard's Personal Pet   \n",
       "14010           Mr. Tonegawa: Middle Management Blues   \n",
       "14020                                   Goblin Slayer   \n",
       "14164          Operation Han-Gyaku-Sei Million Arthur   \n",
       "14535                        Xuan Yuan Sword Luminary   \n",
       "\n",
       "                                          title_synonyms  type       source  \\\n",
       "0                                                     []    TV     Original   \n",
       "2                                                     []    TV        Manga   \n",
       "5                        ['HachiKuro', 'Honey & Clover']    TV        Manga   \n",
       "9                                             ['NARUTO']    TV        Manga   \n",
       "11                                                    []    TV        Manga   \n",
       "...                                                  ...   ...          ...   \n",
       "14001  [\"Amai Choubatsu: Watashi wa Kanshu Sen'you Pet\"]    TV    Web manga   \n",
       "14010                        ['Middle Manager Tonegawa']    TV        Manga   \n",
       "14020                                                 []    TV  Light novel   \n",
       "14164                                                 []    TV         Game   \n",
       "14535           ['Xuan-Yuan Sword: Lights of the Bleak']    TV         Game   \n",
       "\n",
       "                                               producers  \\\n",
       "0                                      ['Bandai Visual']   \n",
       "2                               ['Victor Entertainment']   \n",
       "5                       ['Genco', 'Fuji TV', 'Shueisha']   \n",
       "9                    ['TV Tokyo', 'Aniplex', 'Shueisha']   \n",
       "11                ['Production I.G', 'Nihon Ad Systems']   \n",
       "...                                                  ...   \n",
       "14001                    ['Picante Circus', 'Suiseisha']   \n",
       "14010  ['VAP', 'Half H.P Studio', 'Nippon Television ...   \n",
       "14020  ['Sony Pictures Entertainment', 'Frontier Work...   \n",
       "14164  ['Square Enix', 'Sotsu', 'Genco', 'Lantis', 'M...   \n",
       "14535                       ['TV Tokyo', 'Ai Addiction']   \n",
       "\n",
       "                                                   genre              studio  \\\n",
       "0      ['Action', 'Adventure', 'Comedy', 'Drama', 'Sc...         ['Sunrise']   \n",
       "2      ['Action', 'Sci-Fi', 'Adventure', 'Comedy', 'D...        ['Madhouse']   \n",
       "5      ['Comedy', 'Drama', 'Josei', 'Romance', 'Slice...       ['J.C.Staff']   \n",
       "9      ['Action', 'Adventure', 'Comedy', 'Super Power...  ['Studio Pierrot']   \n",
       "11     ['Action', 'Comedy', 'Sports', 'School', 'Shou...      ['Trans Arts']   \n",
       "...                                                  ...                 ...   \n",
       "14001                                          ['Ecchi']       ['Magic Bus']   \n",
       "14010  ['Comedy', 'Parody', 'Psychological', 'Drama',...        ['Madhouse']   \n",
       "14020                 ['Action', 'Adventure', 'Fantasy']       ['White Fox']   \n",
       "14164        ['Action', 'Adventure', 'Magic', 'Fantasy']       ['J.C.Staff']   \n",
       "14535  ['Action', 'Adventure', 'Demons', 'Magic', 'Ma...     ['Studio Deen']   \n",
       "\n",
       "        episodes  ...  scored_by    rank  popularity    members  favorites  \\\n",
       "0           26.0  ...   405664.0    26.0        39.0   795733.0    43460.0   \n",
       "2           26.0  ...   212537.0   255.0       146.0   408548.0    10432.0   \n",
       "5           24.0  ...    57065.0   419.0       536.0   172274.0     3752.0   \n",
       "9          220.0  ...   716412.0   705.0        10.0  1091313.0    39356.0   \n",
       "11         178.0  ...    50306.0   577.0       856.0   113662.0     2885.0   \n",
       "...          ...  ...        ...     ...         ...        ...        ...   \n",
       "14001       13.0  ...     2930.0  9278.0      3649.0    12265.0       66.0   \n",
       "14010       24.0  ...     4169.0  2988.0      2827.0    21015.0       38.0   \n",
       "14020       12.0  ...   138670.0  1106.0       259.0   306698.0     2470.0   \n",
       "14164       10.0  ...     1131.0  6674.0      3924.0    10526.0       17.0   \n",
       "14535       13.0  ...     2086.0  7087.0      4133.0     9158.0       17.0   \n",
       "\n",
       "                                                synopsis  \\\n",
       "0      In the year 2071, humanity has colonized sever...   \n",
       "2      Vash the Stampede is the man with a $$60,000,0...   \n",
       "5      Yuuta, Takumi, and Shinobu share a six-tatami ...   \n",
       "9      Moments prior to Naruto Uzumaki's birth, a hug...   \n",
       "11     The world of tennis is harsh and highly compet...   \n",
       "...                                                  ...   \n",
       "14001  The story is set in a prison in the near futur...   \n",
       "14010  Chuukan Kanriroku Tonegawa is a spin-off of th...   \n",
       "14020  Goblins are known for their ferocity, cunning,...   \n",
       "14164  The sacred sword \"Excalibur\". A sword that was...   \n",
       "14535  Yin and Ning are two sisters who have been wan...   \n",
       "\n",
       "                                              background    premiered  \\\n",
       "0      When Cowboy Bebop first aired in spring of 199...  Spring 1998   \n",
       "2      The Japanese release by Victor Entertainment h...  Spring 1998   \n",
       "5      Hachimitsu to Clover was the first anime to ai...  Spring 2005   \n",
       "9      Naruto received numerous awards during its air...    Fall 2002   \n",
       "11     Since 2003, there has been a bi-annual musical...    Fall 2001   \n",
       "...                                                  ...          ...   \n",
       "14001  The anime aired in three versions: an all-ages...  Spring 2018   \n",
       "14010  The anime was aired on Wednesdays at 1:59 a.m....  Summer 2018   \n",
       "14020  Based on the light novel series written by Kum...    Fall 2018   \n",
       "14164  Hangyakusei Million Arthur depicts a lighter c...    Fall 2018   \n",
       "14535  Ken En Ken: Aoki Kagayaki is based on the 2004...    Fall 2018   \n",
       "\n",
       "                       broadcast  \\\n",
       "0       Saturdays at 01:00 (JST)   \n",
       "2       Thursdays at 01:15 (JST)   \n",
       "5         Fridays at 00:35 (JST)   \n",
       "9       Thursdays at 19:30 (JST)   \n",
       "11                       Unknown   \n",
       "...                          ...   \n",
       "14001     Mondays at 01:00 (JST)   \n",
       "14010  Wednesdays at 00:00 (JST)   \n",
       "14020     Sundays at 00:30 (JST)   \n",
       "14164   Thursdays at 22:00 (JST)   \n",
       "14535    Tuesdays at 02:05 (JST)   \n",
       "\n",
       "                                                 related  \n",
       "0      {'Adaptation': [{'mal_id': 173, 'type': 'manga...  \n",
       "2      {'Adaptation': [{'mal_id': 703, 'type': 'manga...  \n",
       "5      {'Adaptation': [{'mal_id': 1009, 'type': 'mang...  \n",
       "9      {'Adaptation': [{'mal_id': 11, 'type': 'manga'...  \n",
       "11     {'Adaptation': [{'mal_id': 49, 'type': 'manga'...  \n",
       "...                                                  ...  \n",
       "14001  {'Adaptation': [{'mal_id': 112745, 'type': 'ma...  \n",
       "14010  {'Adaptation': [{'mal_id': 90689, 'type': 'man...  \n",
       "14020  {'Adaptation': [{'mal_id': 95311, 'type': 'man...  \n",
       "14164  {'Other': [{'mal_id': 30954, 'type': 'anime', ...  \n",
       "14535                                                 {}  \n",
       "\n",
       "[456 rows x 26 columns]"
      ]
     },
     "execution_count": 14,
     "metadata": {},
     "output_type": "execute_result"
    }
   ],
   "source": [
    "df"
   ]
  },
  {
   "cell_type": "code",
   "execution_count": 8,
   "metadata": {},
   "outputs": [
    {
     "data": {
      "text/plain": [
       "<Axes: >"
      ]
     },
     "execution_count": 8,
     "metadata": {},
     "output_type": "execute_result"
    },
    {
     "data": {
      "image/png": "[encoded data removed]",
      "text/plain": [
       "<Figure size 640x480 with 1 Axes>"
      ]
     },
     "metadata": {},
     "output_type": "display_data"
    }
   ],
   "source": [
    "import seaborn as sns \n",
    "sns.heatmap(df.isnull(), cbar=False)"
   ]
  },
  {
   "cell_type": "markdown",
   "metadata": {},
   "source": [
    "#### Que dimensiones tiene el dataframe despues de la limpieza de datos"
   ]
  },
  {
   "cell_type": "code",
   "execution_count": 13,
   "metadata": {},
   "outputs": [],
   "source": [
    "# 1. Manejo de valores faltantes\n",
    "df.dropna(inplace=True)  # Eliminar filas con valores faltantes\n",
    "\n",
    "# 2. Eliminación de valores duplicados\n",
    "df.drop_duplicates(inplace=True)  # Eliminar filas duplicadas\n",
    "\n",
    "# 6. Renombrar columnas\n",
    "df.rename(columns={'old_name': 'new_name'}, inplace=True)\n"
   ]
  },
  {
   "cell_type": "code",
   "execution_count": 15,
   "metadata": {},
   "outputs": [
    {
     "data": {
      "text/plain": [
       "Index(['animeID', ' name', ' title_english', ' title_synonyms', ' type',\n",
       "       ' source', ' producers', ' genre', ' studio', ' episodes', ' status',\n",
       "       ' airing', ' aired', ' duration', ' rating', ' score', ' scored_by',\n",
       "       ' rank', ' popularity', ' members', ' favorites', ' synopsis',\n",
       "       ' background', ' premiered', ' broadcast', ' related'],\n",
       "      dtype='object')"
      ]
     },
     "execution_count": 15,
     "metadata": {},
     "output_type": "execute_result"
    }
   ],
   "source": [
    "df.columns"
   ]
  },
  {
   "cell_type": "code",
   "execution_count": 17,
   "metadata": {},
   "outputs": [
    {
     "data": {
      "text/plain": [
       "animeID             object\n",
       " name               object\n",
       " title_english      object\n",
       " title_synonyms     object\n",
       " type               object\n",
       " source             object\n",
       " producers          object\n",
       " genre              object\n",
       " studio             object\n",
       " episodes          float64\n",
       " status             object\n",
       " airing             object\n",
       " aired              object\n",
       " duration           object\n",
       " rating             object\n",
       " score             float64\n",
       " scored_by         float64\n",
       " rank              float64\n",
       " popularity        float64\n",
       " members           float64\n",
       " favorites         float64\n",
       " synopsis           object\n",
       " background         object\n",
       " premiered          object\n",
       " broadcast          object\n",
       " related            object\n",
       "dtype: object"
      ]
     },
     "execution_count": 17,
     "metadata": {},
     "output_type": "execute_result"
    }
   ],
   "source": [
    "df.dtypes"
   ]
  },
  {
   "cell_type": "code",
   "execution_count": 20,
   "metadata": {},
   "outputs": [
    {
     "data": {
      "text/plain": [
       "(456, 26)"
      ]
     },
     "execution_count": 20,
     "metadata": {},
     "output_type": "execute_result"
    }
   ],
   "source": [
    "df.shape"
   ]
  },
  {
   "cell_type": "markdown",
   "metadata": {},
   "source": [
    "### Nos aporta algun tipo de informacion relevante la columna con el nombre del anime en japones? La eliminamos o mantenemos? "
   ]
  },
  {
   "cell_type": "code",
   "execution_count": null,
   "metadata": {},
   "outputs": [],
   "source": [
    "import pandas as pd\n",
    "\n",
    "# Suponiendo que tienes un DataFrame llamado df y quieres eliminar la columna 'title_japanese'\n",
    "del df[' title_japanese']\n"
   ]
  },
  {
   "cell_type": "markdown",
   "metadata": {},
   "source": [
    "### Cuantos valores unicos tenemos por cada columna "
   ]
  },
  {
   "cell_type": "code",
   "execution_count": 11,
   "metadata": {},
   "outputs": [
    {
     "name": "stdout",
     "output_type": "stream",
     "text": [
      "animeID            456\n",
      " name              456\n",
      " title_english     454\n",
      " title_synonyms    331\n",
      " type                1\n",
      " source             13\n",
      " producers         393\n",
      " genre             410\n",
      " studio            120\n",
      " episodes           63\n",
      " status              2\n",
      " airing              2\n",
      " aired             418\n",
      " duration           22\n",
      " rating              5\n",
      " score             226\n",
      " scored_by         455\n",
      " rank              444\n",
      " popularity        444\n",
      " members           456\n",
      " favorites         421\n",
      " synopsis          456\n",
      " background        452\n",
      " premiered         104\n",
      " broadcast         164\n",
      " related           433\n",
      "dtype: int64\n"
     ]
    }
   ],
   "source": [
    "# Suponiendo que tienes un DataFrame llamado df\n",
    "valores_unicos_por_columna = df.nunique()\n",
    "\n",
    "# Imprime el resultado\n",
    "print(valores_unicos_por_columna)\n"
   ]
  },
  {
   "cell_type": "markdown",
   "metadata": {},
   "source": [
    "### Cuál es la distribución de la cantidad de miembros entre los animes? "
   ]
  },
  {
   "cell_type": "code",
   "execution_count": 41,
   "metadata": {},
   "outputs": [
    {
     "name": "stdout",
     "output_type": "stream",
     "text": [
      "animeID                      1      6      16     20     22     30     33     \\\n",
      " name                                                                          \n",
      "11eyes                           0      0      0      0      0      0      0   \n",
      "18if                             0      0      0      0      0      0      0   \n",
      "25-sai no Joshikousei            0      0      0      0      0      0      0   \n",
      "A-Channel                        0      0      0      0      0      0      0   \n",
      "Abenobashi Mahou☆Shoutengai      0      0      0      0      0      0      0   \n",
      "...                            ...    ...    ...    ...    ...    ...    ...   \n",
      "Yuu☆Yuu☆Hakusho                  0      0      0      0      0      0      0   \n",
      "Yu☆Gi☆Oh! Zexal                  0      0      0      0      0      0      0   \n",
      "Zankyou no Terror                0      0      0      0      0      0      0   \n",
      "Zetsuen no Tempest               0      0      0      0      0      0      0   \n",
      "xxxHOLiC                         0      0      0      0      0      0      0   \n",
      "\n",
      "animeID                      59     71     72     ...  36840  36884  37202  \\\n",
      " name                                             ...                        \n",
      "11eyes                           0      0      0  ...      0      0      0   \n",
      "18if                             0      0      0  ...      0      0      0   \n",
      "25-sai no Joshikousei            0      0      0  ...      1      0      0   \n",
      "A-Channel                        0      0      0  ...      0      0      0   \n",
      "Abenobashi Mahou☆Shoutengai      0      0      0  ...      0      0      0   \n",
      "...                            ...    ...    ...  ...    ...    ...    ...   \n",
      "Yuu☆Yuu☆Hakusho                  0      0      0  ...      0      0      0   \n",
      "Yu☆Gi☆Oh! Zexal                  0      0      0  ...      0      0      0   \n",
      "Zankyou no Terror                0      0      0  ...      0      0      0   \n",
      "Zetsuen no Tempest               0      0      0  ...      0      0      0   \n",
      "xxxHOLiC                         0      0      0  ...      0      0      0   \n",
      "\n",
      "animeID                      37210  37259  37320  37338  37349  37555  38083  \n",
      " name                                                                         \n",
      "11eyes                           0      0      0      0      0      0      0  \n",
      "18if                             0      0      0      0      0      0      0  \n",
      "25-sai no Joshikousei            0      0      0      0      0      0      0  \n",
      "A-Channel                        0      0      0      0      0      0      0  \n",
      "Abenobashi Mahou☆Shoutengai      0      0      0      0      0      0      0  \n",
      "...                            ...    ...    ...    ...    ...    ...    ...  \n",
      "Yuu☆Yuu☆Hakusho                  0      0      0      0      0      0      0  \n",
      "Yu☆Gi☆Oh! Zexal                  0      0      0      0      0      0      0  \n",
      "Zankyou no Terror                0      0      0      0      0      0      0  \n",
      "Zetsuen no Tempest               0      0      0      0      0      0      0  \n",
      "xxxHOLiC                         0      0      0      0      0      0      0  \n",
      "\n",
      "[456 rows x 456 columns]\n"
     ]
    }
   ],
   "source": [
    "import pandas as pd\n",
    "\n",
    "# Suponiendo que tienes un DataFrame llamado df y quieres analizar la distribución de la columna 'columna_1' en relación con 'columna_2'\n",
    "tabla_contingencia = pd.crosstab(df[' name'], df['animeID'])\n",
    "print(tabla_contingencia)\n"
   ]
  },
  {
   "cell_type": "code",
   "execution_count": 46,
   "metadata": {},
   "outputs": [
    {
     "data": {
      "image/png": "[encoded data removed]",
      "text/plain": [
       "<Figure size 640x480 with 1 Axes>"
      ]
     },
     "metadata": {},
     "output_type": "display_data"
    }
   ],
   "source": [
    "# Suponiendo que tienes un DataFrame llamado df y quieres visualizar la relación entre 'name' y 'animeID'\n",
    "plt.scatter(df[' name'], df['animeID'])\n",
    "plt.xlabel(' name')\n",
    "plt.ylabel('animeID')\n",
    "plt.show()\n"
   ]
  },
  {
   "cell_type": "code",
   "execution_count": 47,
   "metadata": {},
   "outputs": [
    {
     "name": "stdout",
     "output_type": "stream",
     "text": [
      "                             count     mean  std      min      25%      50%  \\\n",
      " name                                                                         \n",
      "11eyes                         1.0   6682.0  NaN   6682.0   6682.0   6682.0   \n",
      "18if                           1.0  35248.0  NaN  35248.0  35248.0  35248.0   \n",
      "25-sai no Joshikousei          1.0  36840.0  NaN  36840.0  36840.0  36840.0   \n",
      "A-Channel                      1.0   9776.0  NaN   9776.0   9776.0   9776.0   \n",
      "Abenobashi Mahou☆Shoutengai    1.0    306.0  NaN    306.0    306.0    306.0   \n",
      "...                            ...      ...  ...      ...      ...      ...   \n",
      "Yuu☆Yuu☆Hakusho                1.0    392.0  NaN    392.0    392.0    392.0   \n",
      "Yu☆Gi☆Oh! Zexal                1.0  10015.0  NaN  10015.0  10015.0  10015.0   \n",
      "Zankyou no Terror              1.0  23283.0  NaN  23283.0  23283.0  23283.0   \n",
      "Zetsuen no Tempest             1.0  14075.0  NaN  14075.0  14075.0  14075.0   \n",
      "xxxHOLiC                       1.0    861.0  NaN    861.0    861.0    861.0   \n",
      "\n",
      "                                 75%      max  \n",
      " name                                          \n",
      "11eyes                        6682.0   6682.0  \n",
      "18if                         35248.0  35248.0  \n",
      "25-sai no Joshikousei        36840.0  36840.0  \n",
      "A-Channel                     9776.0   9776.0  \n",
      "Abenobashi Mahou☆Shoutengai    306.0    306.0  \n",
      "...                              ...      ...  \n",
      "Yuu☆Yuu☆Hakusho                392.0    392.0  \n",
      "Yu☆Gi☆Oh! Zexal              10015.0  10015.0  \n",
      "Zankyou no Terror            23283.0  23283.0  \n",
      "Zetsuen no Tempest           14075.0  14075.0  \n",
      "xxxHOLiC                       861.0    861.0  \n",
      "\n",
      "[456 rows x 8 columns]\n"
     ]
    }
   ],
   "source": [
    "# Suponiendo que tienes un DataFrame llamado df y quieres obtener estadísticas descriptivas de 'animeID' agrupadas por 'name'\n",
    "estadisticas_descriptivas = df.groupby(' name')['animeID'].describe()\n",
    "print(estadisticas_descriptivas)\n"
   ]
  },
  {
   "cell_type": "markdown",
   "metadata": {},
   "source": [
    "### ¿Cuántos animes se han adaptado de un manga?"
   ]
  },
  {
   "cell_type": "code",
   "execution_count": 49,
   "metadata": {},
   "outputs": [
    {
     "name": "stdout",
     "output_type": "stream",
     "text": [
      "La columna ' manga' no está presente en el DataFrame.\n"
     ]
    }
   ],
   "source": [
    "import pandas as pd\n",
    "\n",
    "# Suponiendo que tienes un DataFrame llamado df y quieres verificar si la columna 'nombre_columna' está presente\n",
    "if ' manga' in df:\n",
    "    print(\"La columna ' manga' está presente en el DataFrame.\")\n",
    "else:\n",
    "    print(\"La columna ' manga' no está presente en el DataFrame.\")\n"
   ]
  },
  {
   "cell_type": "code",
   "execution_count": 23,
   "metadata": {},
   "outputs": [
    {
     "data": {
      "text/plain": [
       "0        False\n",
       "2         True\n",
       "5         True\n",
       "9         True\n",
       "11        True\n",
       "         ...  \n",
       "14001    False\n",
       "14010     True\n",
       "14020    False\n",
       "14164    False\n",
       "14535    False\n",
       "Name:  source, Length: 456, dtype: bool"
      ]
     },
     "execution_count": 23,
     "metadata": {},
     "output_type": "execute_result"
    }
   ],
   "source": [
    "#¿Cuántos animes se han adaptado de un manga?\n",
    "df[' source'] == 'Manga' \n"
   ]
  },
  {
   "cell_type": "code",
   "execution_count": 50,
   "metadata": {},
   "outputs": [
    {
     "name": "stdout",
     "output_type": "stream",
     "text": [
      "   animeID                  name         title_english  \\\n",
      "0        1          Cowboy Bebop          Cowboy Bebop   \n",
      "1        6                Trigun                Trigun   \n",
      "2       16  Hachimitsu to Clover      Honey and Clover   \n",
      "3       20                Naruto                Naruto   \n",
      "4       22   Tennis no Ouji-sama  The Prince of Tennis   \n",
      "\n",
      "                    title_synonyms  type    source  \\\n",
      "0                               []    TV  Original   \n",
      "1                               []    TV     Manga   \n",
      "2  ['HachiKuro', 'Honey & Clover']    TV     Manga   \n",
      "3                       ['NARUTO']    TV     Manga   \n",
      "4                               []    TV     Manga   \n",
      "\n",
      "                                producers  \\\n",
      "0                       ['Bandai Visual']   \n",
      "1                ['Victor Entertainment']   \n",
      "2        ['Genco', 'Fuji TV', 'Shueisha']   \n",
      "3     ['TV Tokyo', 'Aniplex', 'Shueisha']   \n",
      "4  ['Production I.G', 'Nihon Ad Systems']   \n",
      "\n",
      "                                               genre              studio  \\\n",
      "0  ['Action', 'Adventure', 'Comedy', 'Drama', 'Sc...         ['Sunrise']   \n",
      "1  ['Action', 'Sci-Fi', 'Adventure', 'Comedy', 'D...        ['Madhouse']   \n",
      "2  ['Comedy', 'Drama', 'Josei', 'Romance', 'Slice...       ['J.C.Staff']   \n",
      "3  ['Action', 'Adventure', 'Comedy', 'Super Power...  ['Studio Pierrot']   \n",
      "4  ['Action', 'Comedy', 'Sports', 'School', 'Shou...      ['Trans Arts']   \n",
      "\n",
      "    episodes  ...  scored_by   rank  popularity    members  favorites  \\\n",
      "0       26.0  ...   405664.0   26.0        39.0   795733.0    43460.0   \n",
      "1       26.0  ...   212537.0  255.0       146.0   408548.0    10432.0   \n",
      "2       24.0  ...    57065.0  419.0       536.0   172274.0     3752.0   \n",
      "3      220.0  ...   716412.0  705.0        10.0  1091313.0    39356.0   \n",
      "4      178.0  ...    50306.0  577.0       856.0   113662.0     2885.0   \n",
      "\n",
      "                                            synopsis  \\\n",
      "0  In the year 2071, humanity has colonized sever...   \n",
      "1  Vash the Stampede is the man with a $$60,000,0...   \n",
      "2  Yuuta, Takumi, and Shinobu share a six-tatami ...   \n",
      "3  Moments prior to Naruto Uzumaki's birth, a hug...   \n",
      "4  The world of tennis is harsh and highly compet...   \n",
      "\n",
      "                                          background    premiered  \\\n",
      "0  When Cowboy Bebop first aired in spring of 199...  Spring 1998   \n",
      "1  The Japanese release by Victor Entertainment h...  Spring 1998   \n",
      "2  Hachimitsu to Clover was the first anime to ai...  Spring 2005   \n",
      "3  Naruto received numerous awards during its air...    Fall 2002   \n",
      "4  Since 2003, there has been a bi-annual musical...    Fall 2001   \n",
      "\n",
      "                  broadcast                                            related  \n",
      "0  Saturdays at 01:00 (JST)  {'Adaptation': [{'mal_id': 173, 'type': 'manga...  \n",
      "1  Thursdays at 01:15 (JST)  {'Adaptation': [{'mal_id': 703, 'type': 'manga...  \n",
      "2    Fridays at 00:35 (JST)  {'Adaptation': [{'mal_id': 1009, 'type': 'mang...  \n",
      "3  Thursdays at 19:30 (JST)  {'Adaptation': [{'mal_id': 11, 'type': 'manga'...  \n",
      "4                   Unknown  {'Adaptation': [{'mal_id': 49, 'type': 'manga'...  \n",
      "\n",
      "[5 rows x 26 columns]\n",
      "     animeID                                          name  \\\n",
      "451    37320  Amai Choubatsu: Watashi wa Kanshu Senyou Pet   \n",
      "452    37338                    Chuukan Kanriroku Tonegawa   \n",
      "453    37349                                 Goblin Slayer   \n",
      "454    37555                    Hangyakusei Million Arthur   \n",
      "455    38083                     Ken En Ken: Aoki Kagayaki   \n",
      "\n",
      "                                      title_english  \\\n",
      "451  Sweet Punishment: I'm the Guard's Personal Pet   \n",
      "452           Mr. Tonegawa: Middle Management Blues   \n",
      "453                                   Goblin Slayer   \n",
      "454          Operation Han-Gyaku-Sei Million Arthur   \n",
      "455                        Xuan Yuan Sword Luminary   \n",
      "\n",
      "                                        title_synonyms  type       source  \\\n",
      "451  [\"Amai Choubatsu: Watashi wa Kanshu Sen'you Pet\"]    TV    Web manga   \n",
      "452                        ['Middle Manager Tonegawa']    TV        Manga   \n",
      "453                                                 []    TV  Light novel   \n",
      "454                                                 []    TV         Game   \n",
      "455           ['Xuan-Yuan Sword: Lights of the Bleak']    TV         Game   \n",
      "\n",
      "                                             producers  \\\n",
      "451                    ['Picante Circus', 'Suiseisha']   \n",
      "452  ['VAP', 'Half H.P Studio', 'Nippon Television ...   \n",
      "453  ['Sony Pictures Entertainment', 'Frontier Work...   \n",
      "454  ['Square Enix', 'Sotsu', 'Genco', 'Lantis', 'M...   \n",
      "455                       ['TV Tokyo', 'Ai Addiction']   \n",
      "\n",
      "                                                 genre           studio  \\\n",
      "451                                          ['Ecchi']    ['Magic Bus']   \n",
      "452  ['Comedy', 'Parody', 'Psychological', 'Drama',...     ['Madhouse']   \n",
      "453                 ['Action', 'Adventure', 'Fantasy']    ['White Fox']   \n",
      "454        ['Action', 'Adventure', 'Magic', 'Fantasy']    ['J.C.Staff']   \n",
      "455  ['Action', 'Adventure', 'Demons', 'Magic', 'Ma...  ['Studio Deen']   \n",
      "\n",
      "      episodes  ...  scored_by    rank  popularity   members  favorites  \\\n",
      "451       13.0  ...     2930.0  9278.0      3649.0   12265.0       66.0   \n",
      "452       24.0  ...     4169.0  2988.0      2827.0   21015.0       38.0   \n",
      "453       12.0  ...   138670.0  1106.0       259.0  306698.0     2470.0   \n",
      "454       10.0  ...     1131.0  6674.0      3924.0   10526.0       17.0   \n",
      "455       13.0  ...     2086.0  7087.0      4133.0    9158.0       17.0   \n",
      "\n",
      "                                              synopsis  \\\n",
      "451  The story is set in a prison in the near futur...   \n",
      "452  Chuukan Kanriroku Tonegawa is a spin-off of th...   \n",
      "453  Goblins are known for their ferocity, cunning,...   \n",
      "454  The sacred sword \"Excalibur\". A sword that was...   \n",
      "455  Yin and Ning are two sisters who have been wan...   \n",
      "\n",
      "                                            background    premiered  \\\n",
      "451  The anime aired in three versions: an all-ages...  Spring 2018   \n",
      "452  The anime was aired on Wednesdays at 1:59 a.m....  Summer 2018   \n",
      "453  Based on the light novel series written by Kum...    Fall 2018   \n",
      "454  Hangyakusei Million Arthur depicts a lighter c...    Fall 2018   \n",
      "455  Ken En Ken: Aoki Kagayaki is based on the 2004...    Fall 2018   \n",
      "\n",
      "                     broadcast  \\\n",
      "451     Mondays at 01:00 (JST)   \n",
      "452  Wednesdays at 00:00 (JST)   \n",
      "453     Sundays at 00:30 (JST)   \n",
      "454   Thursdays at 22:00 (JST)   \n",
      "455    Tuesdays at 02:05 (JST)   \n",
      "\n",
      "                                               related  \n",
      "451  {'Adaptation': [{'mal_id': 112745, 'type': 'ma...  \n",
      "452  {'Adaptation': [{'mal_id': 90689, 'type': 'man...  \n",
      "453  {'Adaptation': [{'mal_id': 95311, 'type': 'man...  \n",
      "454  {'Other': [{'mal_id': 30954, 'type': 'anime', ...  \n",
      "455                                                 {}  \n",
      "\n",
      "[5 rows x 26 columns]\n"
     ]
    }
   ],
   "source": [
    "# Muestra las primeras 5 filas del DataFrame\n",
    "print(df.head())\n",
    "\n",
    "# Muestra las últimas 5 filas del DataFrame\n",
    "print(df.tail())\n"
   ]
  },
  {
   "cell_type": "code",
   "execution_count": 58,
   "metadata": {},
   "outputs": [
    {
     "data": {
      "image/png": "[encoded data removed]",
      "text/plain": [
       "<Figure size 640x480 with 1 Axes>"
      ]
     },
     "metadata": {},
     "output_type": "display_data"
    }
   ],
   "source": [
    "# Suponiendo que tienes un DataFrame llamado df\n",
    "# Por ejemplo, un gráfico de barras de una columna\n",
    "df.columns.value_counts().plot(kind='bar')\n",
    "plt.show()\n"
   ]
  },
  {
   "cell_type": "markdown",
   "metadata": {},
   "source": [
    "### ¿Cuántos animes tienen una puntuación superior a 8.0?"
   ]
  },
  {
   "cell_type": "code",
   "execution_count": 28,
   "metadata": {},
   "outputs": [
    {
     "data": {
      "text/plain": [
       "115"
      ]
     },
     "execution_count": 28,
     "metadata": {},
     "output_type": "execute_result"
    }
   ],
   "source": [
    "#¿Cuántos animes tienen una puntuación superior a 8.0?\n",
    "#Vemos que tipo es primero\n",
    "df[' score'].dtype\n",
    "#Luego nos quedamos con los que tengan una puntuacion superior a 8\n",
    "superior_8 = df[df[' score'] > 8]\n",
    "superior_8.shape[0]"
   ]
  },
  {
   "cell_type": "markdown",
   "metadata": {},
   "source": [
    "### Cual es el estudio que ha producido mas animes?"
   ]
  },
  {
   "cell_type": "code",
   "execution_count": 30,
   "metadata": {},
   "outputs": [
    {
     "data": {
      "text/plain": [
       " studio\n",
       "['A-1 Pictures']                     27\n",
       "['Madhouse']                         22\n",
       "['J.C.Staff']                        22\n",
       "['Sunrise']                          19\n",
       "['Studio Deen']                      19\n",
       "                                     ..\n",
       "['NAZ']                               1\n",
       "['Bandai Namco Pictures']             1\n",
       "['Lilix']                             1\n",
       "['Barnum Studio', 'Project No.9']     1\n",
       "['Production Reed']                   1\n",
       "Name:  studio, Length: 120, dtype: int64"
      ]
     },
     "execution_count": 30,
     "metadata": {},
     "output_type": "execute_result"
    }
   ],
   "source": [
    "#Cual es el estudio que ha producido mas animes?\n",
    "df[' studio'].groupby(df[' studio']).count().sort_values(ascending=False)"
   ]
  },
  {
   "cell_type": "markdown",
   "metadata": {},
   "source": [
    "imprimir"
   ]
  },
  {
   "cell_type": "code",
   "execution_count": null,
   "metadata": {},
   "outputs": [],
   "source": [
    "import csv\n",
    "\n",
    "# Abre el archivo CSV\n",
    "with open('archivo.csv', newline='') as csvfile:\n",
    "    # Lee el archivo CSV\n",
    "    reader = csv.reader(csvfile)\n",
    "    # Imprime cada fila del archivo CSV\n",
    "    for row in reader:\n",
    "        print(row)\n"
   ]
  }
 ],
 "metadata": {
  "kernelspec": {
   "display_name": "entorno",
   "language": "python",
   "name": "python3"
  },
  "language_info": {
   "codemirror_mode": {
    "name": "ipython",
    "version": 3
   },
   "file_extension": ".py",
   "mimetype": "text/x-python",
   "name": "python",
   "nbconvert_exporter": "python",
   "pygments_lexer": "ipython3",
   "version": "3.10.10"
  }
 },
 "nbformat": 4,
 "nbformat_minor": 2
}
